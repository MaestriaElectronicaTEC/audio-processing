{
 "cells": [
  {
   "cell_type": "markdown",
   "metadata": {},
   "source": [
    "# CREPE: A convolutional representation for pitch estimation\n",
    "\n",
    "CREPE is a deep convolutional neural network that operates directly on the time-domain waveform. [Here](https://arxiv.org/pdf/1802.06182.pdf) is the article for more information."
   ]
  },
  {
   "cell_type": "markdown",
   "metadata": {},
   "source": [
    "## Installation"
   ]
  },
  {
   "cell_type": "markdown",
   "metadata": {},
   "source": [
    "```$ pip install --upgrade tensorflow  # if you don't already have tensorflow >= 2.0.0```"
   ]
  },
  {
   "cell_type": "markdown",
   "metadata": {},
   "source": [
    "```$ pip install crepe```"
   ]
  },
  {
   "cell_type": "markdown",
   "metadata": {},
   "source": [
    "## Demostration"
   ]
  },
  {
   "cell_type": "code",
   "execution_count": 1,
   "metadata": {},
   "outputs": [
    {
     "name": "stdout",
     "output_type": "stream",
     "text": [
      "CREPE: Processing ../assignment_1/sounds/am1.wav ... (1/1)\n",
      "2020-05-15 18:15:26.195048: I tensorflow/compiler/xla/service/service.cc:168] XLA service 0x7f9ebecb9570 initialized for platform Host (this does not guarantee that XLA will be used). Devices:\n",
      "2020-05-15 18:15:26.195079: I tensorflow/compiler/xla/service/service.cc:176]   StreamExecutor device (0): Host, Default Version\n",
      "2/2 [==============================] - 1s 261ms/step\n",
      "CREPE: Saved the estimated frequencies and confidence values at ../assignment_1/sounds/am1.f0.csv\n"
     ]
    }
   ],
   "source": [
    "!crepe ../assignment_1/sounds/am1.wav -v"
   ]
  },
  {
   "cell_type": "code",
   "execution_count": 8,
   "metadata": {},
   "outputs": [],
   "source": [
    "import pandas as pd \n",
    "\n",
    "results = pd.read_csv(\"../assignment_1/sounds/am1.f0.csv\")"
   ]
  },
  {
   "cell_type": "code",
   "execution_count": 4,
   "metadata": {},
   "outputs": [
    {
     "name": "stdout",
     "output_type": "stream",
     "text": [
      "    time  frequency  confidence\n",
      "0   0.00    278.785    0.142713\n",
      "1   0.01    332.364    0.137415\n",
      "2   0.02    116.187    0.492661\n",
      "3   0.03    123.558    0.586105\n",
      "4   0.04    123.885    0.883019\n",
      "5   0.05    123.823    0.933448\n",
      "6   0.06    123.178    0.933086\n",
      "7   0.07    122.658    0.947965\n",
      "8   0.08    122.226    0.947845\n",
      "9   0.09    121.215    0.939682\n",
      "10  0.10    119.116    0.892127\n",
      "11  0.11    116.515    0.903412\n",
      "12  0.12    113.540    0.785956\n",
      "13  0.13    111.507    0.894060\n",
      "14  0.14    110.321    0.921367\n",
      "15  0.15    109.282    0.812563\n",
      "16  0.16    106.645    0.227057\n",
      "17  0.17     93.627    0.060764\n",
      "18  0.18     81.057    0.114713\n",
      "19  0.19    237.922    0.121197\n",
      "20  0.20    335.173    0.088653\n",
      "21  0.21     42.336    0.448542\n",
      "22  0.22     42.528    0.534338\n",
      "23  0.23     33.651    0.307587\n",
      "24  0.24     33.656    0.246790\n",
      "25  0.25     32.929    0.130268\n",
      "26  0.26     59.739    0.050388\n",
      "27  0.27    144.501    0.093165\n",
      "28  0.28    144.590    0.051596\n",
      "29  0.29    330.164    0.077927\n",
      "30  0.30    328.437    0.146563\n",
      "31  0.31     33.303    0.230445\n",
      "32  0.32     54.689    0.079655\n",
      "33  0.33     55.417    0.046621\n",
      "34  0.34    718.933    0.111358\n",
      "35  0.35     54.082    0.157164\n",
      "36  0.36     46.377    0.305040\n",
      "37  0.37     54.057    0.175335\n",
      "38  0.38     52.491    0.175327\n",
      "39  0.39     54.615    0.284846\n"
     ]
    }
   ],
   "source": [
    "# Print all the candidates\n",
    "print(results)"
   ]
  },
  {
   "cell_type": "code",
   "execution_count": 9,
   "metadata": {},
   "outputs": [
    {
     "data": {
      "text/plain": [
       "time            0.070000\n",
       "frequency     122.658000\n",
       "confidence      0.947965\n",
       "Name: 7, dtype: float64"
      ]
     },
     "execution_count": 9,
     "metadata": {},
     "output_type": "execute_result"
    }
   ],
   "source": [
    "# Print candidate with the highest confidence\n",
    "results.loc[results['confidence'].idxmax()]"
   ]
  },
  {
   "cell_type": "code",
   "execution_count": null,
   "metadata": {},
   "outputs": [],
   "source": []
  }
 ],
 "metadata": {
  "kernelspec": {
   "display_name": "Python 3",
   "language": "python",
   "name": "python3"
  },
  "language_info": {
   "codemirror_mode": {
    "name": "ipython",
    "version": 3
   },
   "file_extension": ".py",
   "mimetype": "text/x-python",
   "name": "python",
   "nbconvert_exporter": "python",
   "pygments_lexer": "ipython3",
   "version": "3.7.3"
  }
 },
 "nbformat": 4,
 "nbformat_minor": 4
}
